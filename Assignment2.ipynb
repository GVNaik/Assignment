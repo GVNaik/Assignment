{
 "cells": [
  {
   "cell_type": "code",
   "execution_count": 6,
   "metadata": {},
   "outputs": [
    {
     "name": "stdout",
     "output_type": "stream",
     "text": [
      "120\n"
     ]
    }
   ],
   "source": [
    "#1.1 Write a Python Program to implement your own myreduce() function which works exactly like Python's built-in function reduce() \n",
    "\n",
    "list1 = [1,2,3,4,5]\n",
    "def myreduce(list1):\n",
    "    x = 1\n",
    "    for i in list1:\n",
    "        x = x*i\n",
    "    return x\n",
    "\n",
    "print(myreduce(list1))"
   ]
  },
  {
   "cell_type": "code",
   "execution_count": 7,
   "metadata": {},
   "outputs": [
    {
     "name": "stdout",
     "output_type": "stream",
     "text": [
      "120\n"
     ]
    }
   ],
   "source": [
    "from functools import reduce\n",
    "x = reduce(lambda x,y:x*y,list1)\n",
    "print(x)"
   ]
  },
  {
   "cell_type": "code",
   "execution_count": 14,
   "metadata": {},
   "outputs": [
    {
     "name": "stdout",
     "output_type": "stream",
     "text": [
      "[560000, 50000]\n"
     ]
    }
   ],
   "source": [
    "#1.2Write a Python program to implement your own myfilter() function which works exactly like Python's built-in function filter()\n",
    "\n",
    "salary = [560000,50000,23000,34000,25000]\n",
    "def myfilter(salary):\n",
    "    newlist = []\n",
    "    for i in salary:\n",
    "        if i >= 50000:\n",
    "            newlist.append(i)\n",
    "    return newlist\n",
    "print(myfilter(salary))"
   ]
  },
  {
   "cell_type": "code",
   "execution_count": 18,
   "metadata": {},
   "outputs": [
    {
     "name": "stdout",
     "output_type": "stream",
     "text": [
      "[560000, 50000]\n"
     ]
    }
   ],
   "source": [
    "y = list(filter(lambda i:i>=50000,salary))\n",
    "print(y)"
   ]
  },
  {
   "cell_type": "code",
   "execution_count": 14,
   "metadata": {},
   "outputs": [
    {
     "name": "stdout",
     "output_type": "stream",
     "text": [
      "['A', 'C', 'A', 'D', 'G', 'I', 'L', 'D']\n",
      "['x', 'xx', 'xxx', 'xxxx', 'y', 'yy', 'yyy', 'yyyy', 'z', 'zz', 'zzz', 'zzzz']\n",
      "['x', 'y', 'z', 'xx', 'yy', 'zz', 'xxx', 'yyy', 'zzz', 'xxxx', 'yyyy', 'zzzz']\n",
      "[[2], [3], [4], [3], [4], [5], [4], [5], [6]]\n",
      "[[2, 3, 4, 5], [3, 4, 5, 6], [4, 5, 6, 7], [5, 6, 7, 8]]\n",
      "[(1, 1), (2, 1), (3, 1), (1, 2), (2, 2), (3, 2), (1, 3), (2, 3), (3, 3)]\n"
     ]
    }
   ],
   "source": [
    "#2.  Implement List comprehensions to produce the following lists. Write List comprehensions to produce the following Lists \n",
    "# ['A', 'C', 'A', 'D', 'G', 'I', ’L’, ‘ D’] \n",
    "\n",
    "word1 = \"ACADGILD\"\n",
    "comp1 = [i for i in word1]\n",
    "print(comp1)\n",
    "\n",
    "#['x', 'xx', 'xxx', 'xxxx', 'y', 'yy', 'yyy', 'yyyy', 'z', 'zz', 'zzz', 'zzzz'] \n",
    "word2 = \"xyz\"\n",
    "comp2 = [i*n for i in word2 for n in range(1,5)]\n",
    "print(comp2)\n",
    "\n",
    "#['x', 'y', 'z', 'xx', 'yy', 'zz', 'xx', 'yy', 'zz', 'xxxx', 'yyyy', 'zzzz'] \n",
    "word3 = \"xyz\"\n",
    "comp3 = [i*n for i in range(1,5) for n in word3]\n",
    "print(comp3)\n",
    "\n",
    "#[[2], [3], [4], [3], [4], [5], [4], [5], [6]] \n",
    "word4 = [2,3,4]\n",
    "comp4 = [[i+n] for i in word4 for n in range(0,3)]\n",
    "print(comp4)\n",
    "\n",
    "#[[2, 3, 4, 5], [3, 4, 5, 6], [4, 5, 6, 7], [5, 6, 7, 8]] \n",
    "word5 = [2,3,4,5]\n",
    "comp5 = [[i+n for n in range(0,4)] for i in word5]\n",
    "print(comp5)\n",
    "\n",
    "#[(1, 1), (2, 1), (3, 1), (1, 2), (2, 2), (3, 2), (1, 3), (2, 3), (3, 3)] \n",
    "word6 = [1,2,3]\n",
    "comp6 = [(i,n) for n in range(1,4) for i in word6]\n",
    "print(comp6)"
   ]
  },
  {
   "cell_type": "code",
   "execution_count": 8,
   "metadata": {},
   "outputs": [
    {
     "data": {
      "text/plain": [
       "'watermelon'"
      ]
     },
     "execution_count": 8,
     "metadata": {},
     "output_type": "execute_result"
    }
   ],
   "source": [
    "#3. Implement a function longestWord() that takes a list of words and returns the longest one. \n",
    "wordlist = [\"Apple\",\"Kiwi\",\"Banana\",\"watermelon\",\"ki\"]\n",
    "def longestWord(wordlist):\n",
    "    longest = max(wordlist,key=len)\n",
    "    return longest\n",
    "longestWord(wordlist)"
   ]
  },
  {
   "cell_type": "code",
   "execution_count": 14,
   "metadata": {},
   "outputs": [
    {
     "name": "stdout",
     "output_type": "stream",
     "text": [
      "Please enter the first side of a triangle: 2\n",
      "Please enter the second side of a triangle: 2\n",
      "Please enter the third side of a triangle: 2\n",
      "The sides are 2 2 2 .\n",
      "1.7320508075688772\n"
     ]
    }
   ],
   "source": [
    "#Task2\n",
    "#Write a Python Program(with class concepts) to find the area of the triangle using the below formula.\n",
    "#area = (s*(s-a)*(s-b)*(s-c)) ** 0.5 \n",
    "#Function to take the length of the sides of triangle from user should be defined in the parent class \n",
    "#and function to calculate the area should be defined in subclass. \n",
    "\n",
    " \n",
    "a = int(input('Please enter the first side of a triangle: '))\n",
    "b = int(input('Please enter the second side of a triangle: '))\n",
    "c = int(input('Please enter the third side of a triangle: '))\n",
    "class triangle:\n",
    "    def __init__(self,a,b,c):\n",
    "       self.a = a\n",
    "       self.b = b\n",
    "       self.c = c\n",
    "    def __str__(self):\n",
    "        return \"The sides are %d %d %d .\" % (self.a,self.b,self.c)\n",
    "        \n",
    "    def area(self):\n",
    "        s = (a + b + c) / 2\n",
    "        ar=(s*(s-a)*(s-b)*(s-c)) ** 0.5\n",
    "        return ar\n",
    "        \n",
    "A1 = triangle(a,b,c)\n",
    "print(A1)\n",
    "print(A1.area())"
   ]
  },
  {
   "cell_type": "code",
   "execution_count": 18,
   "metadata": {},
   "outputs": [
    {
     "name": "stdout",
     "output_type": "stream",
     "text": [
      "1.7320508075688772\n"
     ]
    }
   ],
   "source": [
    "class Area(triangle):\n",
    "    def __init__(self,*args):\n",
    "        super(Area,self).__init__(*args)\n",
    "    \n",
    "    def ar(self):\n",
    "        s = (a + b + c) / 2\n",
    "        ar=(s*(s-a)*(s-b)*(s-c)) ** 0.5\n",
    "        return ar\n",
    "    \n",
    "A2 = Area(a,b,c)\n",
    "print(A2.ar())\n"
   ]
  },
  {
   "cell_type": "code",
   "execution_count": 125,
   "metadata": {},
   "outputs": [
    {
     "name": "stdout",
     "output_type": "stream",
     "text": [
      "Enter the value for n:5\n"
     ]
    },
    {
     "data": {
      "text/plain": [
       "['Hello', 'Namaste', 'How are you']"
      ]
     },
     "execution_count": 125,
     "metadata": {},
     "output_type": "execute_result"
    }
   ],
   "source": [
    "#1.2 Write a function filter_long_words() that takes a list of words and an integer n and returns\n",
    "#the list of words that are longer than n. \n",
    "\n",
    "listofwords = ['Hello','Hi','Bye',\"Namaste\",\"How are you\"]\n",
    "n = int(input(\"Enter the value for n:\"))\n",
    "a =[]\n",
    "def filter_long_words(listofwords,n):\n",
    "    for i in listofwords:\n",
    "        if len(i)>= n:\n",
    "            a.append(i)\n",
    "    return a\n",
    "\n",
    "\n",
    "filter_long_words(listofwords,n)\n",
    "\n",
    "    "
   ]
  },
  {
   "cell_type": "code",
   "execution_count": 128,
   "metadata": {},
   "outputs": [
    {
     "data": {
      "text/plain": [
       "[5, 2, 3, 7, 11]"
      ]
     },
     "execution_count": 128,
     "metadata": {},
     "output_type": "execute_result"
    }
   ],
   "source": [
    "#2.1Write a Python program using function concept that maps  list of words into a list of integers \n",
    "#representing the lengths of the corresponding words. \n",
    "b = []\n",
    "def Funct(listofwords):\n",
    "    for i in listofwords:\n",
    "        b.append(len(i))\n",
    "    return b\n",
    "Funct(listofwords)\n",
    "    "
   ]
  },
  {
   "cell_type": "code",
   "execution_count": 43,
   "metadata": {},
   "outputs": [
    {
     "name": "stdout",
     "output_type": "stream",
     "text": [
      "Enter a character to check if vowel or no:o\n"
     ]
    },
    {
     "data": {
      "text/plain": [
       "True"
      ]
     },
     "execution_count": 43,
     "metadata": {},
     "output_type": "execute_result"
    }
   ],
   "source": [
    "#2.2 Write a Python function which takes a character (i.e. a string of length 1) \n",
    "#and returns True if it is a vowel, False otherwise. \n",
    "\n",
    "char1 = input(\"Enter a character to check if vowel or no:\")\n",
    "vowels = ['a','e','i','o','u']\n",
    "def vowelcheck(string1):\n",
    "    if char1 in vowels:\n",
    "        return True\n",
    "    else:\n",
    "        return False\n",
    "        \n",
    "        \n",
    "vowelcheck(char1)\n",
    "    "
   ]
  },
  {
   "cell_type": "code",
   "execution_count": null,
   "metadata": {},
   "outputs": [],
   "source": []
  },
  {
   "cell_type": "code",
   "execution_count": null,
   "metadata": {},
   "outputs": [],
   "source": []
  }
 ],
 "metadata": {
  "kernelspec": {
   "display_name": "Python 3",
   "language": "python",
   "name": "python3"
  },
  "language_info": {
   "codemirror_mode": {
    "name": "ipython",
    "version": 3
   },
   "file_extension": ".py",
   "mimetype": "text/x-python",
   "name": "python",
   "nbconvert_exporter": "python",
   "pygments_lexer": "ipython3",
   "version": "3.7.4"
  }
 },
 "nbformat": 4,
 "nbformat_minor": 2
}
